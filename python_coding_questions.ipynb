{
  "nbformat": 4,
  "nbformat_minor": 0,
  "metadata": {
    "colab": {
      "provenance": [],
      "authorship_tag": "ABX9TyNYRynYADItmEZcB7dUw5ab",
      "include_colab_link": true
    },
    "kernelspec": {
      "name": "python3",
      "display_name": "Python 3"
    },
    "language_info": {
      "name": "python"
    }
  },
  "cells": [
    {
      "cell_type": "markdown",
      "metadata": {
        "id": "view-in-github",
        "colab_type": "text"
      },
      "source": [
        "<a href=\"https://colab.research.google.com/github/shahfaissal/python_programs/blob/main/python_coding_questions.ipynb\" target=\"_parent\"><img src=\"https://colab.research.google.com/assets/colab-badge.svg\" alt=\"Open In Colab\"/></a>"
      ]
    },
    {
      "cell_type": "markdown",
      "source": [
        "1.Write a python program to check a given number is perfect or not.\n",
        "\n",
        "Note: A perfect number is a positive integer that is equal to the sum of its positive divisors, excluding the number itself.\n",
        "\n",
        "Lets understand it with example\n",
        "\n",
        "6 is a positive number and its divisor is 1,2,3 and 6 itself.\n",
        "\n",
        "But we should not include 6 as by the definition of perfect number.\n",
        "\n",
        "Lets add its divisor excluding itself\n",
        "\n",
        "1+2+3 = 6 which is equal to number itself.\n",
        "\n",
        "It means 6 is a Perfect Number."
      ],
      "metadata": {
        "id": "1NxuQmo77bdq"
      }
    },
    {
      "cell_type": "markdown",
      "source": [
        "Example 1:\n",
        "\n",
        "Input:\n",
        "28\n",
        "\n",
        "Output:\n",
        "It is Perfect Number"
      ],
      "metadata": {
        "id": "kK0dgtqx7pMh"
      }
    },
    {
      "cell_type": "code",
      "source": [
        "num = int(input())\n",
        "#List to store divisors\n",
        "divisor_list=[]\n",
        "for i in range(1,num):\n",
        "    if num%i==0:\n",
        "        divisor_list.append(i)\n",
        "if sum(divisor_list)==num:\n",
        "  print('It is Perfect Number')\n",
        "else:\n",
        "    print('It is not Perfect Number')"
      ],
      "metadata": {
        "colab": {
          "base_uri": "https://localhost:8080/"
        },
        "id": "YTYC2f6-7iW8",
        "outputId": "403ae7fa-b828-49d6-b2fb-a18221d8dd01"
      },
      "execution_count": null,
      "outputs": [
        {
          "output_type": "stream",
          "name": "stdout",
          "text": [
            "88\n",
            "It is not Perfect Number\n"
          ]
        }
      ]
    },
    {
      "cell_type": "markdown",
      "source": [
        "2.Write a Python program to check whether a String is Palindrome or not?"
      ],
      "metadata": {
        "id": "SLt2kc297_Xx"
      }
    },
    {
      "cell_type": "markdown",
      "source": [
        "Example 1:\n",
        "\n",
        "Input:\n",
        "madam\n",
        "\n",
        "Output:\n",
        "String is a Palindrome"
      ],
      "metadata": {
        "id": "OkYZpN8V8R-R"
      }
    },
    {
      "cell_type": "code",
      "source": [
        "string = input()\n",
        "if (string[::-1]==string):\n",
        "  print('String is a Palindrome')\n",
        "else:\n",
        "  print('String is not a Palindrome')"
      ],
      "metadata": {
        "colab": {
          "base_uri": "https://localhost:8080/"
        },
        "id": "lDFmF4AA8VfS",
        "outputId": "f4529b3e-3480-43ac-9cfc-354b98915f16"
      },
      "execution_count": null,
      "outputs": [
        {
          "output_type": "stream",
          "name": "stdout",
          "text": [
            "adam\n",
            "String is not a Palindrome\n"
          ]
        }
      ]
    },
    {
      "cell_type": "markdown",
      "source": [
        "3.Write a python program to remove a given character from string.\n",
        "\n",
        "For Example:\n",
        "\n",
        "Input String: Quescol\n",
        "\n",
        "Input Character : e\n",
        "\n",
        "Output: Quscol (After removing ‘e’)"
      ],
      "metadata": {
        "id": "AwSE10B-8gUQ"
      }
    },
    {
      "cell_type": "markdown",
      "source": [
        "Example 1:\n",
        "\n",
        "Input:\n",
        "AlmaBetter\n",
        "\n",
        "t\n",
        "\n",
        "Output:\n",
        "almabe er"
      ],
      "metadata": {
        "id": "3iDogUYu8kE6"
      }
    },
    {
      "cell_type": "code",
      "source": [
        "str = input()\n",
        "ch = input()\n",
        "new_string=str.replace(ch,' ')\n",
        "print(new_string.lower())"
      ],
      "metadata": {
        "colab": {
          "base_uri": "https://localhost:8080/"
        },
        "id": "pbZEHAe88p9b",
        "outputId": "dc05a71d-3938-4438-9ded-4cb354d97012"
      },
      "execution_count": null,
      "outputs": [
        {
          "output_type": "stream",
          "name": "stdout",
          "text": [
            "machine learning\n",
            "a\n",
            "m chine le rning\n"
          ]
        }
      ]
    },
    {
      "cell_type": "markdown",
      "source": [
        "4.Write a python program to find the last position of a given substring."
      ],
      "metadata": {
        "id": "S8IkkDBZ82yZ"
      }
    },
    {
      "cell_type": "markdown",
      "source": [
        "Example 1:\n",
        "Input:\n",
        "Emma is a data scientist who knows Python. Emma works at google.\n",
        "\n",
        "Emma\n",
        "\n",
        "Output:\n",
        "Last occurrence of Emma starts at index 43"
      ],
      "metadata": {
        "id": "WoODQjV587hR"
      }
    },
    {
      "cell_type": "code",
      "source": [
        "str1 =input()\n",
        "substr=input()\n",
        "ind=str1.rfind(substr)\n",
        "print(f'Last occurrence of {substr} starts at index {ind}')"
      ],
      "metadata": {
        "colab": {
          "base_uri": "https://localhost:8080/"
        },
        "id": "q1eHRVaj8-BJ",
        "outputId": "0df7d346-bb42-4d0a-ac5d-85a080d302bd"
      },
      "execution_count": null,
      "outputs": [
        {
          "output_type": "stream",
          "name": "stdout",
          "text": [
            "Emma is a data scientist who knows Python. Emma works at google.\n",
            "emma\n",
            "Last occurrence of emma starts at index -1\n"
          ]
        }
      ]
    },
    {
      "cell_type": "markdown",
      "source": [
        "5.Write a Python program to swap two number without using third variable."
      ],
      "metadata": {
        "id": "dRZzHdwX_Q3I"
      }
    },
    {
      "cell_type": "markdown",
      "source": [
        "Example 1:\n",
        "\n",
        "Input:\n",
        "a=9\n",
        "\n",
        "b=2\n",
        "\n",
        "Output:\n",
        "value of a is : 9\n",
        "\n",
        "value of b is : 2\n",
        "\n",
        "After swapping\n",
        "\n",
        "value of a is : 2\n",
        "\n",
        "value of b is : 9"
      ],
      "metadata": {
        "id": "jTOQfafZ_Wxh"
      }
    },
    {
      "cell_type": "code",
      "source": [
        "a=int(input())\n",
        "b=int(input())\n",
        "print(f'value of a is : {a}')\n",
        "print(f'value of b is : {b}')\n",
        "a,b=b,a\n",
        "print('After swapping')\n",
        "print(f'value of a is : {a}')\n",
        "print(f'value of b is : {b}')"
      ],
      "metadata": {
        "colab": {
          "base_uri": "https://localhost:8080/"
        },
        "id": "kYViWLET_QTs",
        "outputId": "0ab8f5a5-1ee4-4b0e-be31-e22f0e49c789"
      },
      "execution_count": null,
      "outputs": [
        {
          "output_type": "stream",
          "name": "stdout",
          "text": [
            "5\n",
            "6\n",
            "value of a is : 5\n",
            "value of b is : 6\n",
            "After swapping\n",
            "value of a is : 6\n",
            "value of b is : 5\n"
          ]
        }
      ]
    },
    {
      "cell_type": "markdown",
      "source": [
        "6.Write a Python program to change the position of every nth value with the (n+1)th in a list.\n",
        "\n",
        "Example 1:\n",
        "\n",
        "Input:\n",
        "[1, 0, 3, 2, 5, 4]\n",
        "\n",
        "Output:\n",
        "[0, 1, 2, 3, 4, 5]"
      ],
      "metadata": {
        "id": "06sbwMU47GCm"
      }
    },
    {
      "cell_type": "code",
      "source": [
        "lst=eval(input())\n",
        "for i in range(0,len(lst)-1,2):\n",
        "    lst[i+1],lst[i]=lst[i],lst[i+1]\n",
        "print(lst)"
      ],
      "metadata": {
        "colab": {
          "base_uri": "https://localhost:8080/"
        },
        "id": "TBCMvMrD5HCu",
        "outputId": "7438a1b2-9723-4286-b6a3-7b340928b57d"
      },
      "execution_count": 6,
      "outputs": [
        {
          "output_type": "stream",
          "name": "stdout",
          "text": [
            "[1,2,3,4,5,6]\n",
            "[2, 1, 4, 3, 6, 5]\n"
          ]
        }
      ]
    },
    {
      "cell_type": "markdown",
      "source": [
        "7.Write a Python program to find common items from two lists.\n",
        "Example 1:\n",
        "\n",
        "Input:\n",
        "\n",
        "[\"Red\", \"Green\", \"Orange\", \"White\"]\n",
        "\n",
        "[\"Black\", \"Green\", \"White\", \"Pink\"]\n",
        "\n",
        "Output:\n",
        "['Green', 'White']"
      ],
      "metadata": {
        "id": "CslXQEn15Qpu"
      }
    },
    {
      "cell_type": "code",
      "source": [
        "color1 = eval(input())\n",
        "color2 = eval(input())\n",
        "lst1=[]\n",
        "for i in color1:\n",
        "    if i in color2:\n",
        "        lst1.append(i)\n",
        "\n",
        "print(lst1)"
      ],
      "metadata": {
        "colab": {
          "base_uri": "https://localhost:8080/"
        },
        "id": "7aTW5XJn5QaO",
        "outputId": "e5961409-9d23-4d41-e4c4-8a559dda0cf6"
      },
      "execution_count": 7,
      "outputs": [
        {
          "output_type": "stream",
          "name": "stdout",
          "text": [
            "[\"Red\", \"Green\", \"Orange\", \"White\"]\n",
            "[\"Black\", \"Green\", \"White\", \"Pink\"]\n",
            "['Green', 'White']\n"
          ]
        }
      ]
    },
    {
      "cell_type": "markdown",
      "source": [
        "8.Write a Python program to compute the difference between two lists.\n",
        "\n",
        "Example 1:\n",
        "\n",
        "Input:\n",
        "\n",
        "L1=[\"red\", \"orange\", \"green\", \"blue\", \"white\"]\n",
        "\n",
        "L2=[\"black\", \"yellow\", \"green\", \"blue\"]\n",
        "\n",
        "Output:\n",
        "\n",
        "L1-L2= ['orange', 'red', 'white']\n",
        "\n",
        "L2-L1= ['black', 'yellow']"
      ],
      "metadata": {
        "id": "MER229E75rpu"
      }
    },
    {
      "cell_type": "code",
      "source": [
        "L1 = eval(input())\n",
        "L2 = eval(input())\n",
        "res = [i for i in L1 if i not in L2]\n",
        "res1 = [i for i in L2 if i not in L1]\n",
        "print('L1-L2=',res)\n",
        "print('L2-L1=',res1)"
      ],
      "metadata": {
        "colab": {
          "base_uri": "https://localhost:8080/"
        },
        "id": "IkoH4oa98gfF",
        "outputId": "40c0bb77-7c6f-4787-ce74-81ab395348b1"
      },
      "execution_count": 9,
      "outputs": [
        {
          "output_type": "stream",
          "name": "stdout",
          "text": [
            "[\"red\", \"orange\", \"green\", \"blue\", \"white\"]\n",
            "[\"black\", \"yellow\", \"green\", \"blue\"]\n",
            "L1-L2= ['red', 'orange', 'white']\n",
            "L2-L1= ['black', 'yellow']\n"
          ]
        }
      ]
    },
    {
      "cell_type": "markdown",
      "source": [
        "9.Write a Python program to find a tuple, the smallest second index value from a list of tuples."
      ],
      "metadata": {
        "id": "fltTydwI9hnM"
      }
    },
    {
      "cell_type": "markdown",
      "source": [
        "Example 1:\n",
        "\n",
        "Input:\n",
        "\n",
        "x= [(4, 1), (1, 2), (6, 0)]\n",
        "\n",
        "Output:\n",
        "(6, 0)"
      ],
      "metadata": {
        "id": "yrCrbapU9o6c"
      }
    },
    {
      "cell_type": "code",
      "source": [
        "x = eval(input())\n",
        "tuple_2nd_index_list=[]\n",
        "for i in x:\n",
        "    tuple_2nd_index_list.append(i[1])\n",
        "\n",
        "min_value = min(tuple_2nd_index_list) \n",
        "for i in x:\n",
        "    if min_value==i[1]:\n",
        "        print(i)"
      ],
      "metadata": {
        "colab": {
          "base_uri": "https://localhost:8080/"
        },
        "id": "Z7pzmUDI9W2M",
        "outputId": "49ad9b76-0c02-49ff-dce7-aa332c2ee69e"
      },
      "execution_count": 10,
      "outputs": [
        {
          "output_type": "stream",
          "name": "stdout",
          "text": [
            "[(4, 1),(1, 2),(6, 0)]\n",
            "(6, 0)\n"
          ]
        }
      ]
    },
    {
      "cell_type": "markdown",
      "source": [
        "10.Write a Python program to create a lambda function that adds 15 to a given number passed in as an argument, also create a lambda function that multiplies argument x with argument y and print the result.\n",
        "\n",
        "Example 1:\n",
        "\n",
        "Input:\n",
        "\n",
        "add=10\n",
        "\n",
        "mult1=12\n",
        "\n",
        "mult2=4\n",
        "\n",
        "Output:\n",
        "\n",
        "After addition: 25\n",
        "\n",
        "After multiplication: 48"
      ],
      "metadata": {
        "id": "qJd619Le92wV"
      }
    },
    {
      "cell_type": "code",
      "source": [
        "add=int(input())\n",
        "mult1=int(input())\n",
        "mult2=int(input())\n",
        "x = lambda add: add+15\n",
        "y = lambda mult1,mult2: mult1*mult2\n",
        "\n",
        "print(f'After addition: {x(add)}')\n",
        "print(f'After multiplication: {y(mult1,mult2)}')"
      ],
      "metadata": {
        "colab": {
          "base_uri": "https://localhost:8080/"
        },
        "id": "NzoSg986-DuE",
        "outputId": "e5ac7399-5cee-4ee3-d74c-712c874d77c7"
      },
      "execution_count": 11,
      "outputs": [
        {
          "output_type": "stream",
          "name": "stdout",
          "text": [
            "10\n",
            "12\n",
            "4\n",
            "After addition: 25\n",
            "After multiplication: 48\n"
          ]
        }
      ]
    }
  ]
}