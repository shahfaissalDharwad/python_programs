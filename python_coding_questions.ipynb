{
  "nbformat": 4,
  "nbformat_minor": 0,
  "metadata": {
    "colab": {
      "provenance": [],
      "authorship_tag": "ABX9TyP8bYUvG3lEuma4+2JkJZv0",
      "include_colab_link": true
    },
    "kernelspec": {
      "name": "python3",
      "display_name": "Python 3"
    },
    "language_info": {
      "name": "python"
    }
  },
  "cells": [
    {
      "cell_type": "markdown",
      "metadata": {
        "id": "view-in-github",
        "colab_type": "text"
      },
      "source": [
        "<a href=\"https://colab.research.google.com/github/shahfaissal/python_programs/blob/main/python_coding_questions.ipynb\" target=\"_parent\"><img src=\"https://colab.research.google.com/assets/colab-badge.svg\" alt=\"Open In Colab\"/></a>"
      ]
    },
    {
      "cell_type": "markdown",
      "source": [
        "1.Write a python program to check a given number is perfect or not.\n",
        "\n",
        "Note: A perfect number is a positive integer that is equal to the sum of its positive divisors, excluding the number itself.\n",
        "\n",
        "Lets understand it with example\n",
        "\n",
        "6 is a positive number and its divisor is 1,2,3 and 6 itself.\n",
        "\n",
        "But we should not include 6 as by the definition of perfect number.\n",
        "\n",
        "Lets add its divisor excluding itself\n",
        "\n",
        "1+2+3 = 6 which is equal to number itself.\n",
        "\n",
        "It means 6 is a Perfect Number."
      ],
      "metadata": {
        "id": "1NxuQmo77bdq"
      }
    },
    {
      "cell_type": "markdown",
      "source": [
        "Example 1:\n",
        "\n",
        "Input:\n",
        "28\n",
        "\n",
        "Output:\n",
        "It is Perfect Number"
      ],
      "metadata": {
        "id": "kK0dgtqx7pMh"
      }
    },
    {
      "cell_type": "code",
      "source": [
        "num = int(input())\n",
        "#List to store divisors\n",
        "divisor_list=[]\n",
        "for i in range(1,num):\n",
        "    if num%i==0:\n",
        "        divisor_list.append(i)\n",
        "if sum(divisor_list)==num:\n",
        "  print('It is Perfect Number')\n",
        "else:\n",
        "    print('It is not Perfect Number')"
      ],
      "metadata": {
        "colab": {
          "base_uri": "https://localhost:8080/"
        },
        "id": "YTYC2f6-7iW8",
        "outputId": "403ae7fa-b828-49d6-b2fb-a18221d8dd01"
      },
      "execution_count": 2,
      "outputs": [
        {
          "output_type": "stream",
          "name": "stdout",
          "text": [
            "88\n",
            "It is not Perfect Number\n"
          ]
        }
      ]
    },
    {
      "cell_type": "markdown",
      "source": [
        "2.Write a Python program to check whether a String is Palindrome or not?"
      ],
      "metadata": {
        "id": "SLt2kc297_Xx"
      }
    },
    {
      "cell_type": "markdown",
      "source": [
        "Example 1:\n",
        "\n",
        "Input:\n",
        "madam\n",
        "\n",
        "Output:\n",
        "String is a Palindrome"
      ],
      "metadata": {
        "id": "OkYZpN8V8R-R"
      }
    },
    {
      "cell_type": "code",
      "source": [
        "string = input()\n",
        "if (string[::-1]==string):\n",
        "  print('String is a Palindrome')\n",
        "else:\n",
        "  print('String is not a Palindrome')"
      ],
      "metadata": {
        "colab": {
          "base_uri": "https://localhost:8080/"
        },
        "id": "lDFmF4AA8VfS",
        "outputId": "f4529b3e-3480-43ac-9cfc-354b98915f16"
      },
      "execution_count": 4,
      "outputs": [
        {
          "output_type": "stream",
          "name": "stdout",
          "text": [
            "adam\n",
            "String is not a Palindrome\n"
          ]
        }
      ]
    },
    {
      "cell_type": "markdown",
      "source": [
        "3.Write a python program to remove a given character from string.\n",
        "\n",
        "For Example:\n",
        "\n",
        "Input String: Quescol\n",
        "\n",
        "Input Character : e\n",
        "\n",
        "Output: Quscol (After removing ‘e’)"
      ],
      "metadata": {
        "id": "AwSE10B-8gUQ"
      }
    },
    {
      "cell_type": "markdown",
      "source": [
        "Example 1:\n",
        "\n",
        "Input:\n",
        "AlmaBetter\n",
        "\n",
        "t\n",
        "\n",
        "Output:\n",
        "almabe er"
      ],
      "metadata": {
        "id": "3iDogUYu8kE6"
      }
    },
    {
      "cell_type": "code",
      "source": [
        "str = input()\n",
        "ch = input()\n",
        "new_string=str.replace(ch,' ')\n",
        "print(new_string.lower())"
      ],
      "metadata": {
        "colab": {
          "base_uri": "https://localhost:8080/"
        },
        "id": "pbZEHAe88p9b",
        "outputId": "dc05a71d-3938-4438-9ded-4cb354d97012"
      },
      "execution_count": 5,
      "outputs": [
        {
          "output_type": "stream",
          "name": "stdout",
          "text": [
            "machine learning\n",
            "a\n",
            "m chine le rning\n"
          ]
        }
      ]
    },
    {
      "cell_type": "markdown",
      "source": [
        "4.Write a python program to find the last position of a given substring."
      ],
      "metadata": {
        "id": "S8IkkDBZ82yZ"
      }
    },
    {
      "cell_type": "markdown",
      "source": [
        "Example 1:\n",
        "Input:\n",
        "Emma is a data scientist who knows Python. Emma works at google.\n",
        "\n",
        "Emma\n",
        "\n",
        "Output:\n",
        "Last occurrence of Emma starts at index 43"
      ],
      "metadata": {
        "id": "WoODQjV587hR"
      }
    },
    {
      "cell_type": "code",
      "source": [
        "str1 =input()\n",
        "substr=input()\n",
        "ind=str1.rfind(substr)\n",
        "print(f'Last occurrence of {substr} starts at index {ind}')"
      ],
      "metadata": {
        "colab": {
          "base_uri": "https://localhost:8080/"
        },
        "id": "q1eHRVaj8-BJ",
        "outputId": "0df7d346-bb42-4d0a-ac5d-85a080d302bd"
      },
      "execution_count": 7,
      "outputs": [
        {
          "output_type": "stream",
          "name": "stdout",
          "text": [
            "Emma is a data scientist who knows Python. Emma works at google.\n",
            "emma\n",
            "Last occurrence of emma starts at index -1\n"
          ]
        }
      ]
    },
    {
      "cell_type": "markdown",
      "source": [
        "5.Write a Python program to swap two number without using third variable."
      ],
      "metadata": {
        "id": "dRZzHdwX_Q3I"
      }
    },
    {
      "cell_type": "markdown",
      "source": [
        "Example 1:\n",
        "\n",
        "Input:\n",
        "a=9\n",
        "\n",
        "b=2\n",
        "\n",
        "Output:\n",
        "value of a is : 9\n",
        "\n",
        "value of b is : 2\n",
        "\n",
        "After swapping\n",
        "\n",
        "value of a is : 2\n",
        "\n",
        "value of b is : 9"
      ],
      "metadata": {
        "id": "jTOQfafZ_Wxh"
      }
    },
    {
      "cell_type": "code",
      "source": [
        "a=int(input())\n",
        "b=int(input())\n",
        "print(f'value of a is : {a}')\n",
        "print(f'value of b is : {b}')\n",
        "a,b=b,a\n",
        "print('After swapping')\n",
        "print(f'value of a is : {a}')\n",
        "print(f'value of b is : {b}')"
      ],
      "metadata": {
        "colab": {
          "base_uri": "https://localhost:8080/"
        },
        "id": "kYViWLET_QTs",
        "outputId": "0ab8f5a5-1ee4-4b0e-be31-e22f0e49c789"
      },
      "execution_count": 8,
      "outputs": [
        {
          "output_type": "stream",
          "name": "stdout",
          "text": [
            "5\n",
            "6\n",
            "value of a is : 5\n",
            "value of b is : 6\n",
            "After swapping\n",
            "value of a is : 6\n",
            "value of b is : 5\n"
          ]
        }
      ]
    }
  ]
}